{
 "cells": [
  {
   "cell_type": "code",
   "execution_count": 2,
   "metadata": {},
   "outputs": [],
   "source": [
    "import pandas as pd\n",
    "import numpy as np\n",
    "import copy\n",
    "import random\n",
    "\n",
    "from games4e import Game, GameState, minmax_decision, alpha_beta_cutoff_search\n"
   ]
  },
  {
   "cell_type": "code",
   "execution_count": 3,
   "metadata": {},
   "outputs": [],
   "source": [
    "class Mancala(Game):\n",
    "    def __init__(self, pits_per_player=6, stones_per_pit = 4):\n",
    "        \"\"\"\n",
    "        The constructor for the Mancala class defines several instance variables:\n",
    "\n",
    "        pits_per_player: This variable stores the number of pits each player has.\n",
    "        stones_per_pit: It represents the number of stones each pit contains at the start of any game.\n",
    "        board: This data structure is responsible for managing the Mancala board.\n",
    "        current_player: This variable takes the value 1 or 2, as it's a two-player game, indicating which player's turn it is.\n",
    "        moves: This is a list used to store the moves made by each player. It's structured in the format (current_player, chosen_pit).\n",
    "        p1_pits_index: A list containing two elements representing the start and end indices of player 1's pits in the board data structure.\n",
    "        p2_pits_index: Similar to p1_pits_index, it contains the start and end indices for player 2's pits on the board.\n",
    "        p1_mancala_index and p2_mancala_index: These variables hold the indices of the Mancala pits on the board for players 1 and 2, respectively.\n",
    "        \"\"\"\n",
    "        self.pits_per_player = pits_per_player\n",
    "        board = [stones_per_pit] * ((pits_per_player+1) * 2)  # Initialize each pit with stones_per_pit number of stones\n",
    "        self.p1_pits_index = [0, pits_per_player-1]\n",
    "        self.p1_mancala_index = pits_per_player\n",
    "        self.p2_pits_index = [pits_per_player+1, len(board)-2] \n",
    "        self.p2_mancala_index = len(board)-1\n",
    "        \n",
    "        # Zero out the Mancala pits\n",
    "        board[self.p1_mancala_index] = 0\n",
    "        board[self.p2_mancala_index] = 0\n",
    "        \n",
    "        # Create initial GameState\n",
    "        moves = list(range(self.p1_pits_index[0], self.p1_pits_index[1]+1))\n",
    "        self.initial = GameState(to_move=1, utility=0, board=board, moves=moves)\n",
    "\n",
    "    def actions(self, state: GameState) -> list[int]:\n",
    "        # GameState = namedtuple('GameState', 'to_move, utility, board, moves')\n",
    "        # available actions based on the player to move and the board state\n",
    "        if state.to_move == 1:\n",
    "            return [pit for pit in range(self.p1_pits_index[0], self.p1_pits_index[1]+1) if state.board[pit] > 0]\n",
    "        else:\n",
    "            return [pit for pit in range(self.p2_pits_index[0], self.p2_pits_index[1]+1) if state.board[pit] > 0]\n",
    "    \n",
    "    def result(self, state: GameState, move: int) -> GameState:\n",
    "        # update the board state after a move is made\n",
    "        new_state = copy.deepcopy(state)\n",
    "        board = new_state.board\n",
    "        current_player = state.to_move\n",
    "        \n",
    "        # Convert move to board index if player 2\n",
    "        pit = move if current_player == 1 else move\n",
    "        \n",
    "        # Get stones from pit\n",
    "        stones = board[pit]\n",
    "        board[pit] = 0\n",
    "        \n",
    "        # Distribute stones\n",
    "        current_pit = pit\n",
    "        while stones > 0:\n",
    "            current_pit = (current_pit + 1) % len(board)\n",
    "            # Skip opponent's mancala\n",
    "            if current_player == 1 and current_pit == self.p2_mancala_index:\n",
    "                continue\n",
    "            if current_player == 2 and current_pit == self.p1_mancala_index:\n",
    "                continue\n",
    "            board[current_pit] += 1\n",
    "            stones -= 1\n",
    "            \n",
    "        # Handle capture\n",
    "        # Check if the last stone lands in an empty pit\n",
    "        if board[current_pit] == 1:\n",
    "            # Check if the last stone lands in the player's own pits\n",
    "            if current_player == 1 and current_pit in range(self.p1_pits_index[0], self.p1_pits_index[1]+1):\n",
    "                # Get the opposite pit index\n",
    "                opposite_pit = self.p2_pits_index[1] - current_pit\n",
    "                # Check if the opposite pit is not empty\n",
    "                if board[opposite_pit] != 0:\n",
    "                    # Capture the stones in the opposite pit and the last stone\n",
    "                    board[self.p1_mancala_index] += board[opposite_pit] + 1\n",
    "                    board[opposite_pit] = 0\n",
    "                    board[current_pit] = 0\n",
    "                    \n",
    "            # Check if the last stone lands in the player's own pits\n",
    "            if current_player == 2 and current_pit in range(self.p2_pits_index[0], self.p2_pits_index[1]+1):\n",
    "                # Get the opposite pit index\n",
    "                opposite_pit = self.p1_pits_index[1] - (current_pit - 7)\n",
    "                # Check if the opposite pit is not empty\n",
    "                if board[opposite_pit] != 0:\n",
    "                    # Capture the stones in the opposite pit and the last stone\n",
    "                    board[self.p2_mancala_index] += board[opposite_pit] + 1\n",
    "                    board[opposite_pit] = 0\n",
    "                    board[current_pit] = 0\n",
    "        # Switch player\n",
    "        next_player = 1 if current_player == 2 else 2\n",
    "        \n",
    "        # Get available moves for next player\n",
    "        if next_player == 1:\n",
    "            moves = [pit for pit in range(self.p1_pits_index[0], self.p1_pits_index[1]+1) if board[pit] > 0]\n",
    "        else:\n",
    "            moves = [pit for pit in range(self.p2_pits_index[0], self.p2_pits_index[1]+1) if board[pit] > 0]\n",
    "            \n",
    "        return GameState(to_move=next_player, utility=0, board=board, moves=moves)\n",
    "        \n",
    "    def utility(self, state: GameState, player: int) -> int:\n",
    "        # return the utility of the game state for the given player\n",
    "        utility = state.board[self.p1_mancala_index] - state.board[self.p2_mancala_index]\n",
    "        return utility if player == 1 else -utility\n",
    "    \n",
    "    def terminal_test(self, state: GameState) -> bool:\n",
    "        # check if the game is in a terminal state\n",
    "        for pit in range(self.p1_pits_index[0], self.p1_pits_index[1]+1):\n",
    "            if state.board[pit] != 0:\n",
    "                return False\n",
    "        for pit in range(self.p2_pits_index[0], self.p2_pits_index[1]+1):\n",
    "            if state.board[pit] != 0:\n",
    "                return False\n",
    "        return True\n",
    "    \n",
    "    def to_move(self, state: GameState) -> int:\n",
    "        # return the player whose turn it is\n",
    "        return state.to_move    \n",
    "    \n",
    "    def display(self, state: GameState):\n",
    "        # print the game state\n",
    "        player_1_pits = state.board[self.p1_pits_index[0]: self.p1_pits_index[1]+1]\n",
    "        player_1_mancala = state.board[self.p1_mancala_index]\n",
    "        player_2_pits = state.board[self.p2_pits_index[0]: self.p2_pits_index[1]+1]\n",
    "        player_2_mancala = state.board[self.p2_mancala_index]\n",
    "\n",
    "        print('P1               P2')\n",
    "        print('     ____{}____     '.format(player_2_mancala))\n",
    "        for i in range(self.pits_per_player):\n",
    "            if i == self.pits_per_player - 1:\n",
    "                print('{} -> |_{}_|_{}_| <- {}'.format(i+1, player_1_pits[i], \n",
    "                        player_2_pits[-(i+1)], self.pits_per_player - i))\n",
    "            else:    \n",
    "                print('{} -> | {} | {} | <- {}'.format(i+1, player_1_pits[i], \n",
    "                        player_2_pits[-(i+1)], self.pits_per_player - i))\n",
    "            \n",
    "        print('         {}         '.format(player_1_mancala))\n",
    "        turn = 'P1' if state.to_move == 1 else 'P2'\n",
    "        print('Turn: ' + turn)\n",
    "    \n",
    "    def play(self, player1, player2):\n",
    "        state = self.initial\n",
    "        moves = 0\n",
    "\n",
    "        while True:\n",
    "            if self.terminal_test(state):\n",
    "                break\n",
    "\n",
    "            moves += 1\n",
    "            available_actions = self.actions(state)\n",
    "            if not available_actions:\n",
    "                break\n",
    "\n",
    "            if state.to_move == 1:\n",
    "                action = player1(self, state)\n",
    "            else:\n",
    "                action = player2(self, state)\n",
    "\n",
    "            if action is None: \n",
    "                break\n",
    "\n",
    "            state = self.result(state, action)\n",
    "\n",
    "        if state.board[self.p1_mancala_index] > state.board[self.p2_mancala_index]:\n",
    "            winner = 1 \n",
    "        elif state.board[self.p1_mancala_index] < state.board[self.p2_mancala_index]:\n",
    "            winner = 2\n",
    "        else:\n",
    "            winner = 0  # Draw\n",
    "\n",
    "        return winner, moves\n",
    "\n",
    "    def simulate(self, player1, player2, num_games):\n",
    "        results = [0, 0, 0, 0]  # player1 wins, player2 wins, draws, total moves\n",
    "        for i in range(num_games):\n",
    "            winner, moves = self.play(player1, player2)\n",
    "            results[3] += moves\n",
    "            if winner == 1:\n",
    "                results[0] += 1\n",
    "            elif winner == 2:\n",
    "                results[1] += 1\n",
    "            else:\n",
    "                results[2] += 1\n",
    "        return results\n"
   ]
  },
  {
   "cell_type": "code",
   "execution_count": 4,
   "metadata": {},
   "outputs": [],
   "source": [
    "def minmax_decision(state, game, d=5):  \n",
    "    \"\"\"Given a state in a game, calculate the best move by searching\n",
    "    forward to a specified depth or terminal states.\"\"\"\n",
    "\n",
    "    player = game.to_move(state)\n",
    "\n",
    "    def max_value(state, depth):  \n",
    "        if depth == 0 or game.terminal_test(state):  # Check depth\n",
    "            return game.utility(state, player)\n",
    "        v = -np.inf\n",
    "        for a in game.actions(state):\n",
    "            v = max(v, min_value(game.result(state, a), depth - 1))  # Decrease depth\n",
    "        return v\n",
    "\n",
    "    def min_value(state, depth): \n",
    "        if depth == 0 or game.terminal_test(state):  # Check depth\n",
    "            return game.utility(state, player)\n",
    "        v = np.inf\n",
    "        for a in game.actions(state):\n",
    "            v = min(v, max_value(game.result(state, a), depth - 1))  # Decrease depth\n",
    "        return v\n",
    "\n",
    "    # Body of minmax_decision:\n",
    "    return max(game.actions(state), \n",
    "              key=lambda a: min_value(game.result(state, a), d-1))  # Start depth search"
   ]
  },
  {
   "cell_type": "code",
   "execution_count": 5,
   "metadata": {},
   "outputs": [],
   "source": [
    "game = Mancala()\n",
    "\n",
    "def random_player(game, state):\n",
    "    return random.choice(game.actions(state))\n",
    "\n",
    "def minmax_player(game, state, depth):\n",
    "    actions = game.actions(state)\n",
    "    if not actions: \n",
    "        return None\n",
    "    return minmax_decision(state, game, d=depth)\n",
    "\n",
    "def ab_player(game, state, depth):\n",
    "    actions = game.actions(state)\n",
    "    if not actions: \n",
    "        return None\n",
    "    return alpha_beta_cutoff_search(state, game, d=depth)\n"
   ]
  },
  {
   "cell_type": "code",
   "execution_count": 6,
   "metadata": {},
   "outputs": [
    {
     "name": "stdout",
     "output_type": "stream",
     "text": [
      "100 trials of random p1 vs random p2:\n",
      "Random 1 Wins: 54 \n",
      "Random 2 Wins: 43 \n",
      "Draws: 3 \n",
      "Average Moves in a game: 48.03\n"
     ]
    }
   ],
   "source": [
    "test1 = game.simulate(random_player, random_player, 100)\n",
    "print(\"100 trials of random p1 vs random p2:\")\n",
    "print(\"Random 1 Wins:\", test1[0], \"\\nRandom 2 Wins:\", test1[1], \"\\nDraws:\", test1[2], \"\\nAverage Moves in a game:\", test1[3] / 100)"
   ]
  },
  {
   "cell_type": "markdown",
   "metadata": {},
   "source": [
    "## 3. Play 100 games of random player against random player"
   ]
  },
  {
   "cell_type": "markdown",
   "metadata": {},
   "source": [
    "### 3.1. What percentage of games does each player (1st or 2nd) win?\n",
    "\n",
    "- The first player wins a little bit more, 53%, while the second player wins 47% of the time.  \n",
    "\n",
    "### 3.2. On average, how many moves does it take to win?\n",
    "\n",
    "- For random vs random, it took an average of 46 moves to complete a game."
   ]
  },
  {
   "cell_type": "code",
   "execution_count": 7,
   "metadata": {},
   "outputs": [
    {
     "name": "stdout",
     "output_type": "stream",
     "text": [
      "\n",
      "100 trials of random p1 vs minmax ai\n",
      "Random Wins: 25 \n",
      "MinMax Wins: 35 \n",
      "Draws: 40 \n",
      "Average Moves in a game: 11.71\n"
     ]
    }
   ],
   "source": [
    "smaller_game = Mancala(pits_per_player=3, stones_per_pit=2)\n",
    "print(\"\\n100 trials of random p1 vs minmax ai\")\n",
    "test2 = smaller_game.simulate(random_player, (lambda g, s: minmax_player(g, s, 5)), 100)\n",
    "print(\"Random Wins:\", test2[0], \"\\nMinMax Wins:\", test2[1], \"\\nDraws:\", test2[2], \"\\nAverage Moves in a game:\", test2[3] / 100)"
   ]
  },
  {
   "cell_type": "markdown",
   "metadata": {},
   "source": [
    "## 4 & 5. Build an AI player that uses minimax to choose the best move with a variable number of plies and a utility function we describe. Play 100 games with the random player against the minimax AI player at a depth of 5 plies\n"
   ]
  },
  {
   "cell_type": "markdown",
   "metadata": {},
   "source": [
    "### 5.1. What percentage of games does each player (AI or random) win?\n",
    "\n",
    "- For random vs minmax, the AI won 30 of the 100 games, the random player won 18 games and 52 games were draws. \n",
    "\n",
    "### 5.2. On average, how many moves does it take to win?\n",
    "\n",
    "- It took an average of 11.24 moves to complete a game. The game was played on a smaller board with 3 pits per player and 2 stones per pit.\n",
    "\n",
    "### 5.3. Is your AI player better than random chance? Write a paragraph or two describing or why not.\n",
    "\n",
    "Yes, the AI player is better than random chance. We can see that consistantly the AI player wins more often than the random player. Additionally, when it was the two random players playing against each other it took more moves to complete a game. In the first test, the two random players won at a chance closer to 50-50. We can see a contrast here with player 2 winning significantly more often over 100 seperate trials. Even when the AI player did not win, it managed to draw more games than the random player. "
   ]
  },
  {
   "cell_type": "code",
   "execution_count": 8,
   "metadata": {},
   "outputs": [
    {
     "name": "stdout",
     "output_type": "stream",
     "text": [
      "\n",
      "100 trials of random p1 vs ab ai\n",
      "Random Wins: 1 \n",
      "AB Wins: 99 \n",
      "Draws: 0 \n",
      "Average Moves in a game: 32.84\n"
     ]
    }
   ],
   "source": [
    "print(\"\\n100 trials of random p1 vs ab ai\")\n",
    "test3 = game.simulate(random_player, (lambda g, s: ab_player(g, s, 5)), 100)\n",
    "print(\"Random Wins:\", test3[0], \"\\nAB Wins:\", test3[1], \"\\nDraws:\", test3[2], \"\\nAverage Moves in a game:\", test3[3] / 100)"
   ]
  },
  {
   "cell_type": "code",
   "execution_count": 9,
   "metadata": {},
   "outputs": [
    {
     "name": "stdout",
     "output_type": "stream",
     "text": [
      "\n",
      "1 trials of random p1 vs ab ai\n",
      "Random Wins: 0 \n",
      "AB Wins: 1 \n",
      "Draws: 0 \n",
      "Average Moves in a game: 34.0\n"
     ]
    }
   ],
   "source": [
    "print(\"\\n1 trials of random p1 vs ab ai\")\n",
    "test4 = game.simulate(random_player, (lambda g, s: ab_player(g, s, 5)), 1)\n",
    "print(\"Random Wins:\", test4[0], \"\\nAB Wins:\", test4[1], \"\\nDraws:\", test4[2], \"\\nAverage Moves in a game:\", test4[3] / 1)\n"
   ]
  },
  {
   "cell_type": "markdown",
   "metadata": {},
   "source": [
    "## 7. Play 100 games with the random player against the Alpha-Beta AI player at a\n",
    "depth of 5 plies\n",
    "\n",
    "### 7.1. How long does it take for a single game to run to completion?\n",
    "\n",
    "For a single game to run, it takes about 0.1 seconds to run, and to run all 100 trials it takes roughly 24 seconds to run.\n",
    "\n",
    "### 7.2. What percentage of games does each player (AI or random) win?\n",
    "\n",
    "The AI using AB pruning takes the win 99 of the 100 games, while the random player wins 1 game.\n",
    "\n",
    "### 7.3. On average, how many moves does it take to win?\n",
    "\n",
    "It takes 33 moves to win a game on average.\n",
    "\n",
    "### 7.4. Are your results for this part different from those for your minimax AI player?\n",
    "\n",
    "\n",
    "Compared to the minimax AI player, the AB pruning AI player wins more games and takes less time to complete a game. The AB pruning AI is much more consistent in beating the random player compared to the minimax AI, however, this might be due to the AB AI being played on the full board.\n"
   ]
  },
  {
   "cell_type": "code",
   "execution_count": 18,
   "metadata": {},
   "outputs": [
    {
     "name": "stdout",
     "output_type": "stream",
     "text": [
      "\n",
      "100 trials of random p1 vs ab ai\n",
      "Random Wins: 64 \n",
      "AB Wins: 9 \n",
      "Draws: 27 \n",
      "Average Moves in a game: 6.82\n"
     ]
    }
   ],
   "source": [
    "print(\"\\n100 trials of random p1 vs ab ai\")\n",
    "test3 = smaller_game.simulate(random_player, (lambda g, s: ab_player(g, s, 10)), 100)\n",
    "print(\"Random Wins:\", test3[0], \"\\nAB Wins:\", test3[1], \"\\nDraws:\", test3[2], \"\\nAverage Moves in a game:\", test3[3] / 100)\n",
    "\n"
   ]
  },
  {
   "cell_type": "code",
   "execution_count": 14,
   "metadata": {},
   "outputs": [
    {
     "name": "stdout",
     "output_type": "stream",
     "text": [
      "\n",
      "1 trial of random p1 vs ab ai (full board)\n",
      "Random Wins: 0 \n",
      "AB Wins: 1 \n",
      "Draws: 0 \n",
      "Average Moves in a game: 33.0\n"
     ]
    }
   ],
   "source": [
    "print(\"\\n1 trial of random p1 vs ab ai (full board)\")\n",
    "test4 = game.simulate(random_player, (lambda g, s: ab_player(g, s, 10)), 1)\n",
    "print(\"Random Wins:\", test4[0], \"\\nAB Wins:\", test4[1], \"\\nDraws:\", test4[2], \"\\nAverage Moves in a game:\", test4[3] / 1)"
   ]
  },
  {
   "cell_type": "code",
   "execution_count": 20,
   "metadata": {},
   "outputs": [
    {
     "name": "stdout",
     "output_type": "stream",
     "text": [
      "\n",
      "100 trials of random p1 vs ab ai (medium board)\n",
      "Random Wins: 30 \n",
      "AB Wins: 63 \n",
      "Draws: 7 \n",
      "Average Moves in a game: 18.72\n"
     ]
    }
   ],
   "source": [
    "medium_game = Mancala(pits_per_player=5, stones_per_pit=3)\n",
    "print(\"\\n100 trials of random p1 vs ab ai (medium board)\")\n",
    "test5 = medium_game.simulate(random_player, (lambda g, s: ab_player(g, s, 10)), 100)\n",
    "print(\"Random Wins:\", test5[0], \"\\nAB Wins:\", test5[1], \"\\nDraws:\", test5[2], \"\\nAverage Moves in a game:\", test5[3] / 100)\n"
   ]
  },
  {
   "cell_type": "code",
   "execution_count": 19,
   "metadata": {},
   "outputs": [
    {
     "name": "stdout",
     "output_type": "stream",
     "text": [
      "\n",
      "100 trial of random p1 vs ab ai (medium board, depth=5)\n",
      "Random Wins: 1 \n",
      "AB Wins: 97 \n",
      "Draws: 2 \n",
      "Average Moves in a game: 23.92\n"
     ]
    }
   ],
   "source": [
    "print(\"\\n100 trial of random p1 vs ab ai (medium board, depth=5)\")\n",
    "test6 = medium_game.simulate(random_player, (lambda g, s: ab_player(g, s, 5)), 100)\n",
    "print(\"Random Wins:\", test6[0], \"\\nAB Wins:\", test6[1], \"\\nDraws:\", test6[2], \"\\nAverage Moves in a game:\", test6[3] / 100)"
   ]
  },
  {
   "cell_type": "markdown",
   "metadata": {},
   "source": [
    "## 8. (Extra Credit, 10 points). Play 100 games with the random player against the\n",
    "Alpha-Beta AI player at a depth of 10 plies\n",
    "\n",
    "### 8.1 How long does it take for a single game to run to completion?\n",
    "\n",
    "- It takes about 32s to run a full mancala game (6 pits, 4 stones per pit)\n",
    "- It takes about 0.3s to run 100 smaller mancala game (3 pits, 2 stones per pit)\n",
    "\n",
    "### 8.2 What percentage of games does each player (AI or random) win?\n",
    "\n",
    "- In the smaller game, the AI player won only 9 games, while the random won 64 games.\n",
    "- In the medium game (5 pits, 3 stones per pit), the AI player won 61 games, while the random won 32 games.\n",
    "\n",
    "### 8.3 On average, how many moves does it take to win?\n",
    "\n",
    "- In the smaller game, it took an average of 6.82 moves to win a game.\n",
    "- In the medium game, it took an average of 20.41 moves to win a game.\n",
    "\n",
    "### 8.4 Does increasing the number of plies improve the play for our AI player? Why or why not?\n",
    "\n",
    "- No it surprisingly did not improve the performance of the AI player. This might be due to our limited utility function that is relatively simple by only accounting for number of stones in the mancala pits. "
   ]
  },
  {
   "cell_type": "markdown",
   "metadata": {},
   "source": []
  }
 ],
 "metadata": {
  "kernelspec": {
   "display_name": "CSCI3202",
   "language": "python",
   "name": "python3"
  },
  "language_info": {
   "codemirror_mode": {
    "name": "ipython",
    "version": 3
   },
   "file_extension": ".py",
   "mimetype": "text/x-python",
   "name": "python",
   "nbconvert_exporter": "python",
   "pygments_lexer": "ipython3",
   "version": "3.9.19"
  }
 },
 "nbformat": 4,
 "nbformat_minor": 2
}
